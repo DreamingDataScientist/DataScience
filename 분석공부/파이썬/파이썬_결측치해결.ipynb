{
 "cells": [
  {
   "cell_type": "code",
   "execution_count": 9,
   "metadata": {},
   "outputs": [
    {
     "name": "stdout",
     "output_type": "stream",
     "text": [
      "       col1      col2      col3\n",
      "0  0.102485  0.198186  0.836377\n",
      "1  0.093066  0.419327  0.607359\n",
      "2  0.994231  0.261657  0.373211\n",
      "3  0.588744  0.185925  0.990469\n",
      "4  0.583898  0.473432  0.621178\n"
     ]
    }
   ],
   "source": [
    "#결측치\n",
    "import numpy as np\n",
    "import pandas as pd\n",
    "\n",
    "#난수를 이용해서 5x3 데이터 프레임 생성\n",
    "df = pd.DataFrame(np.random.rand(5,3), columns = ['col1', 'col2', 'col3'])\n",
    "\n",
    "print(df)\n",
    "\n"
   ]
  },
  {
   "cell_type": "code",
   "execution_count": 10,
   "metadata": {},
   "outputs": [
    {
     "name": "stdout",
     "output_type": "stream",
     "text": [
      "       col1      col2      col3\n",
      "0       NaN  0.198186  0.836377\n",
      "1       NaN  0.419327       NaN\n",
      "2  0.994231       NaN  0.373211\n",
      "3  0.588744  0.185925       NaN\n",
      "4  0.583898       NaN  0.621178\n"
     ]
    },
    {
     "name": "stderr",
     "output_type": "stream",
     "text": [
      "C:\\ProgramData\\Anaconda3\\lib\\site-packages\\ipykernel_launcher.py:1: DeprecationWarning: \n",
      ".ix is deprecated. Please use\n",
      ".loc for label based indexing or\n",
      ".iloc for positional indexing\n",
      "\n",
      "See the documentation here:\n",
      "http://pandas.pydata.org/pandas-docs/stable/indexing.html#ix-indexer-is-deprecated\n",
      "  \"\"\"Entry point for launching an IPython kernel.\n"
     ]
    }
   ],
   "source": [
    "df.ix[0,0] = None\n",
    "df.ix[1, ['col1', 'col3']] = np.nan\n",
    "df.ix[2, 'col2'] = np.nan\n",
    "df.ix[3, 'col3'] = np.nan\n",
    "df.ix[4, 'col2'] = np.nan\n",
    "\n",
    "print(df)"
   ]
  },
  {
   "cell_type": "code",
   "execution_count": 11,
   "metadata": {},
   "outputs": [
    {
     "name": "stdout",
     "output_type": "stream",
     "text": [
      "       col1      col2      col3\n",
      "0  0.000000  0.198186  0.836377\n",
      "1  0.000000  0.419327  0.000000\n",
      "2  0.994231  0.000000  0.373211\n",
      "3  0.588744  0.185925  0.000000\n",
      "4  0.583898  0.000000  0.621178\n"
     ]
    }
   ],
   "source": [
    "#결측치 해겨 ㄹ1 - fillna를 이용 : 0을 채움\n",
    "df0 = df.fillna(0)\n",
    "print(df0)"
   ]
  },
  {
   "cell_type": "code",
   "execution_count": 12,
   "metadata": {},
   "outputs": [
    {
     "name": "stdout",
     "output_type": "stream",
     "text": [
      "       col1      col2      col3\n",
      "0        결측  0.198186  0.836377\n",
      "1        결측  0.419327        결측\n",
      "2  0.994231        결측  0.373211\n",
      "3  0.588744  0.185925        결측\n",
      "4  0.583898        결측  0.621178\n"
     ]
    }
   ],
   "source": [
    "#결측치 해결 2 - fillna를 이용 문자열로 채움\n",
    "dfs = df.fillna('결측')\n",
    "print(dfs)"
   ]
  },
  {
   "cell_type": "code",
   "execution_count": 13,
   "metadata": {},
   "outputs": [
    {
     "name": "stdout",
     "output_type": "stream",
     "text": [
      "       col1      col2      col3\n",
      "0  0.722291  0.198186  0.836377\n",
      "1  0.722291  0.419327  0.610255\n",
      "2  0.994231  0.267813  0.373211\n",
      "3  0.588744  0.185925  0.610255\n",
      "4  0.583898  0.267813  0.621178\n"
     ]
    }
   ],
   "source": [
    "#결측치 해결 3 -fillna를 이용 : 평균값으로 채움.\n",
    "df_mean = df.mean()\n",
    "dfm = df.fillna(df_mean)\n",
    "print(dfm)"
   ]
  }
 ],
 "metadata": {
  "kernelspec": {
   "display_name": "Python 3",
   "language": "python",
   "name": "python3"
  },
  "language_info": {
   "codemirror_mode": {
    "name": "ipython",
    "version": 3
   },
   "file_extension": ".py",
   "mimetype": "text/x-python",
   "name": "python",
   "nbconvert_exporter": "python",
   "pygments_lexer": "ipython3",
   "version": "3.6.3"
  }
 },
 "nbformat": 4,
 "nbformat_minor": 2
}
