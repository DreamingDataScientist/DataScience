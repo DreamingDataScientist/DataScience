{
 "cells": [
  {
   "cell_type": "code",
   "execution_count": 13,
   "metadata": {},
   "outputs": [
    {
     "data": {
      "text/html": [
       "<table>\n",
       "<thead><tr><th scope=col>Speaking</th><th scope=col>Reading</th><th scope=col>Traveling</th><th scope=col>School.Grades</th><th scope=col>Height</th><th scope=col>Good.Skin</th><th scope=col>Muscular</th><th scope=col>Crush</th></tr></thead>\n",
       "<tbody>\n",
       "\t<tr><td>30   </td><td>80   </td><td>40   </td><td>40   </td><td>90   </td><td>90   </td><td>50   </td><td>1type</td></tr>\n",
       "\t<tr><td>60   </td><td>50   </td><td>70   </td><td>50   </td><td>60   </td><td>60   </td><td>90   </td><td>2type</td></tr>\n",
       "\t<tr><td>50   </td><td>40   </td><td>80   </td><td>60   </td><td>50   </td><td>70   </td><td>80   </td><td>2type</td></tr>\n",
       "\t<tr><td>90   </td><td>50   </td><td>60   </td><td>30   </td><td>40   </td><td>20   </td><td>30   </td><td>3type</td></tr>\n",
       "\t<tr><td>50   </td><td>70   </td><td>30   </td><td>70   </td><td>70   </td><td>80   </td><td>60   </td><td>1type</td></tr>\n",
       "\t<tr><td>70   </td><td>30   </td><td>60   </td><td>40   </td><td>40   </td><td>40   </td><td>30   </td><td>3type</td></tr>\n",
       "\t<tr><td>40   </td><td>90   </td><td>60   </td><td>60   </td><td>60   </td><td>80   </td><td>60   </td><td>1type</td></tr>\n",
       "\t<tr><td>30   </td><td>60   </td><td>90   </td><td>60   </td><td>40   </td><td>70   </td><td>70   </td><td>2type</td></tr>\n",
       "\t<tr><td>80   </td><td>40   </td><td>20   </td><td>80   </td><td>60   </td><td>40   </td><td>50   </td><td>3type</td></tr>\n",
       "\t<tr><td>50   </td><td>70   </td><td>70   </td><td>50   </td><td>70   </td><td>90   </td><td>50   </td><td>1type</td></tr>\n",
       "\t<tr><td>80   </td><td>50   </td><td>60   </td><td>40   </td><td>50   </td><td>40   </td><td>70   </td><td>3type</td></tr>\n",
       "\t<tr><td>30   </td><td>70   </td><td>30   </td><td>90   </td><td>70   </td><td>80   </td><td>60   </td><td>1type</td></tr>\n",
       "\t<tr><td>40   </td><td>60   </td><td>90   </td><td>60   </td><td>50   </td><td>70   </td><td>80   </td><td>2type</td></tr>\n",
       "\t<tr><td>80   </td><td>30   </td><td>50   </td><td>50   </td><td>80   </td><td>40   </td><td>60   </td><td>3type</td></tr>\n",
       "</tbody>\n",
       "</table>\n"
      ],
      "text/latex": [
       "\\begin{tabular}{r|llllllll}\n",
       " Speaking & Reading & Traveling & School.Grades & Height & Good.Skin & Muscular & Crush\\\\\n",
       "\\hline\n",
       "\t 30    & 80    & 40    & 40    & 90    & 90    & 50    & 1type\\\\\n",
       "\t 60    & 50    & 70    & 50    & 60    & 60    & 90    & 2type\\\\\n",
       "\t 50    & 40    & 80    & 60    & 50    & 70    & 80    & 2type\\\\\n",
       "\t 90    & 50    & 60    & 30    & 40    & 20    & 30    & 3type\\\\\n",
       "\t 50    & 70    & 30    & 70    & 70    & 80    & 60    & 1type\\\\\n",
       "\t 70    & 30    & 60    & 40    & 40    & 40    & 30    & 3type\\\\\n",
       "\t 40    & 90    & 60    & 60    & 60    & 80    & 60    & 1type\\\\\n",
       "\t 30    & 60    & 90    & 60    & 40    & 70    & 70    & 2type\\\\\n",
       "\t 80    & 40    & 20    & 80    & 60    & 40    & 50    & 3type\\\\\n",
       "\t 50    & 70    & 70    & 50    & 70    & 90    & 50    & 1type\\\\\n",
       "\t 80    & 50    & 60    & 40    & 50    & 40    & 70    & 3type\\\\\n",
       "\t 30    & 70    & 30    & 90    & 70    & 80    & 60    & 1type\\\\\n",
       "\t 40    & 60    & 90    & 60    & 50    & 70    & 80    & 2type\\\\\n",
       "\t 80    & 30    & 50    & 50    & 80    & 40    & 60    & 3type\\\\\n",
       "\\end{tabular}\n"
      ],
      "text/markdown": [
       "\n",
       "Speaking | Reading | Traveling | School.Grades | Height | Good.Skin | Muscular | Crush | \n",
       "|---|---|---|---|---|---|---|---|---|---|---|---|---|---|\n",
       "| 30    | 80    | 40    | 40    | 90    | 90    | 50    | 1type | \n",
       "| 60    | 50    | 70    | 50    | 60    | 60    | 90    | 2type | \n",
       "| 50    | 40    | 80    | 60    | 50    | 70    | 80    | 2type | \n",
       "| 90    | 50    | 60    | 30    | 40    | 20    | 30    | 3type | \n",
       "| 50    | 70    | 30    | 70    | 70    | 80    | 60    | 1type | \n",
       "| 70    | 30    | 60    | 40    | 40    | 40    | 30    | 3type | \n",
       "| 40    | 90    | 60    | 60    | 60    | 80    | 60    | 1type | \n",
       "| 30    | 60    | 90    | 60    | 40    | 70    | 70    | 2type | \n",
       "| 80    | 40    | 20    | 80    | 60    | 40    | 50    | 3type | \n",
       "| 50    | 70    | 70    | 50    | 70    | 90    | 50    | 1type | \n",
       "| 80    | 50    | 60    | 40    | 50    | 40    | 70    | 3type | \n",
       "| 30    | 70    | 30    | 90    | 70    | 80    | 60    | 1type | \n",
       "| 40    | 60    | 90    | 60    | 50    | 70    | 80    | 2type | \n",
       "| 80    | 30    | 50    | 50    | 80    | 40    | 60    | 3type | \n",
       "\n",
       "\n"
      ],
      "text/plain": [
       "   Speaking Reading Traveling School.Grades Height Good.Skin Muscular Crush\n",
       "1  30       80      40        40            90     90        50       1type\n",
       "2  60       50      70        50            60     60        90       2type\n",
       "3  50       40      80        60            50     70        80       2type\n",
       "4  90       50      60        30            40     20        30       3type\n",
       "5  50       70      30        70            70     80        60       1type\n",
       "6  70       30      60        40            40     40        30       3type\n",
       "7  40       90      60        60            60     80        60       1type\n",
       "8  30       60      90        60            40     70        70       2type\n",
       "9  80       40      20        80            60     40        50       3type\n",
       "10 50       70      70        50            70     90        50       1type\n",
       "11 80       50      60        40            50     40        70       3type\n",
       "12 30       70      30        90            70     80        60       1type\n",
       "13 40       60      90        60            50     70        80       2type\n",
       "14 80       30      50        50            80     40        60       3type"
      ]
     },
     "metadata": {},
     "output_type": "display_data"
    }
   ],
   "source": [
    "#누구와 소개팅을 하면 좋을까? - 결혼정보 시스템 짝이어주기.\n",
    "isLike <- read.csv('c:/Java/like.csv')\n",
    "isLike"
   ]
  },
  {
   "cell_type": "code",
   "execution_count": 26,
   "metadata": {},
   "outputs": [
    {
     "data": {
      "text/html": [
       "9"
      ],
      "text/latex": [
       "9"
      ],
      "text/markdown": [
       "9"
      ],
      "text/plain": [
       "[1] 9"
      ]
     },
     "metadata": {},
     "output_type": "display_data"
    },
    {
     "data": {
      "text/html": [
       "5"
      ],
      "text/latex": [
       "5"
      ],
      "text/markdown": [
       "5"
      ],
      "text/plain": [
       "[1] 5"
      ]
     },
     "metadata": {},
     "output_type": "display_data"
    },
    {
     "data": {
      "text/plain": [
       "\n",
       "1type 2type 3type \n",
       "    3     3     3 "
      ]
     },
     "metadata": {},
     "output_type": "display_data"
    },
    {
     "data": {
      "text/plain": [
       "\n",
       "1type 2type 3type \n",
       "    2     1     2 "
      ]
     },
     "metadata": {},
     "output_type": "display_data"
    },
    {
     "data": {
      "text/html": [
       "<table>\n",
       "<thead><tr><th></th><th scope=col>Speaking</th><th scope=col>Reading</th><th scope=col>Traveling</th><th scope=col>School.Grades</th><th scope=col>Height</th><th scope=col>Good.Skin</th><th scope=col>Muscular</th><th scope=col>Crush</th></tr></thead>\n",
       "<tbody>\n",
       "\t<tr><th scope=row>9</th><td>80   </td><td>40   </td><td>20   </td><td>80   </td><td>60   </td><td>40   </td><td>50   </td><td>3type</td></tr>\n",
       "\t<tr><th scope=row>1</th><td>30   </td><td>80   </td><td>40   </td><td>40   </td><td>90   </td><td>90   </td><td>50   </td><td>1type</td></tr>\n",
       "\t<tr><th scope=row>5</th><td>50   </td><td>70   </td><td>30   </td><td>70   </td><td>70   </td><td>80   </td><td>60   </td><td>1type</td></tr>\n",
       "\t<tr><th scope=row>3</th><td>50   </td><td>40   </td><td>80   </td><td>60   </td><td>50   </td><td>70   </td><td>80   </td><td>2type</td></tr>\n",
       "\t<tr><th scope=row>6</th><td>70   </td><td>30   </td><td>60   </td><td>40   </td><td>40   </td><td>40   </td><td>30   </td><td>3type</td></tr>\n",
       "\t<tr><th scope=row>2</th><td>60   </td><td>50   </td><td>70   </td><td>50   </td><td>60   </td><td>60   </td><td>90   </td><td>2type</td></tr>\n",
       "\t<tr><th scope=row>4</th><td>90   </td><td>50   </td><td>60   </td><td>30   </td><td>40   </td><td>20   </td><td>30   </td><td>3type</td></tr>\n",
       "\t<tr><th scope=row>13</th><td>40   </td><td>60   </td><td>90   </td><td>60   </td><td>50   </td><td>70   </td><td>80   </td><td>2type</td></tr>\n",
       "\t<tr><th scope=row>10</th><td>50   </td><td>70   </td><td>70   </td><td>50   </td><td>70   </td><td>90   </td><td>50   </td><td>1type</td></tr>\n",
       "</tbody>\n",
       "</table>\n"
      ],
      "text/latex": [
       "\\begin{tabular}{r|llllllll}\n",
       "  & Speaking & Reading & Traveling & School.Grades & Height & Good.Skin & Muscular & Crush\\\\\n",
       "\\hline\n",
       "\t9 & 80    & 40    & 20    & 80    & 60    & 40    & 50    & 3type\\\\\n",
       "\t1 & 30    & 80    & 40    & 40    & 90    & 90    & 50    & 1type\\\\\n",
       "\t5 & 50    & 70    & 30    & 70    & 70    & 80    & 60    & 1type\\\\\n",
       "\t3 & 50    & 40    & 80    & 60    & 50    & 70    & 80    & 2type\\\\\n",
       "\t6 & 70    & 30    & 60    & 40    & 40    & 40    & 30    & 3type\\\\\n",
       "\t2 & 60    & 50    & 70    & 50    & 60    & 60    & 90    & 2type\\\\\n",
       "\t4 & 90    & 50    & 60    & 30    & 40    & 20    & 30    & 3type\\\\\n",
       "\t13 & 40    & 60    & 90    & 60    & 50    & 70    & 80    & 2type\\\\\n",
       "\t10 & 50    & 70    & 70    & 50    & 70    & 90    & 50    & 1type\\\\\n",
       "\\end{tabular}\n"
      ],
      "text/markdown": [
       "\n",
       "| <!--/--> | Speaking | Reading | Traveling | School.Grades | Height | Good.Skin | Muscular | Crush | \n",
       "|---|---|---|---|---|---|---|---|---|\n",
       "| 9 | 80    | 40    | 20    | 80    | 60    | 40    | 50    | 3type | \n",
       "| 1 | 30    | 80    | 40    | 40    | 90    | 90    | 50    | 1type | \n",
       "| 5 | 50    | 70    | 30    | 70    | 70    | 80    | 60    | 1type | \n",
       "| 3 | 50    | 40    | 80    | 60    | 50    | 70    | 80    | 2type | \n",
       "| 6 | 70    | 30    | 60    | 40    | 40    | 40    | 30    | 3type | \n",
       "| 2 | 60    | 50    | 70    | 50    | 60    | 60    | 90    | 2type | \n",
       "| 4 | 90    | 50    | 60    | 30    | 40    | 20    | 30    | 3type | \n",
       "| 13 | 40    | 60    | 90    | 60    | 50    | 70    | 80    | 2type | \n",
       "| 10 | 50    | 70    | 70    | 50    | 70    | 90    | 50    | 1type | \n",
       "\n",
       "\n"
      ],
      "text/plain": [
       "   Speaking Reading Traveling School.Grades Height Good.Skin Muscular Crush\n",
       "9  80       40      20        80            60     40        50       3type\n",
       "1  30       80      40        40            90     90        50       1type\n",
       "5  50       70      30        70            70     80        60       1type\n",
       "3  50       40      80        60            50     70        80       2type\n",
       "6  70       30      60        40            40     40        30       3type\n",
       "2  60       50      70        50            60     60        90       2type\n",
       "4  90       50      60        30            40     20        30       3type\n",
       "13 40       60      90        60            50     70        80       2type\n",
       "10 50       70      70        50            70     90        50       1type"
      ]
     },
     "metadata": {},
     "output_type": "display_data"
    },
    {
     "data": {
      "text/html": [
       "<table>\n",
       "<thead><tr><th></th><th scope=col>Speaking</th><th scope=col>Reading</th><th scope=col>Traveling</th><th scope=col>School.Grades</th><th scope=col>Height</th><th scope=col>Good.Skin</th><th scope=col>Muscular</th><th scope=col>Crush</th></tr></thead>\n",
       "<tbody>\n",
       "\t<tr><th scope=row>7</th><td>40   </td><td>90   </td><td>60   </td><td>60   </td><td>60   </td><td>80   </td><td>60   </td><td>1type</td></tr>\n",
       "\t<tr><th scope=row>8</th><td>30   </td><td>60   </td><td>90   </td><td>60   </td><td>40   </td><td>70   </td><td>70   </td><td>2type</td></tr>\n",
       "\t<tr><th scope=row>11</th><td>80   </td><td>50   </td><td>60   </td><td>40   </td><td>50   </td><td>40   </td><td>70   </td><td>3type</td></tr>\n",
       "\t<tr><th scope=row>12</th><td>30   </td><td>70   </td><td>30   </td><td>90   </td><td>70   </td><td>80   </td><td>60   </td><td>1type</td></tr>\n",
       "\t<tr><th scope=row>14</th><td>80   </td><td>30   </td><td>50   </td><td>50   </td><td>80   </td><td>40   </td><td>60   </td><td>3type</td></tr>\n",
       "</tbody>\n",
       "</table>\n"
      ],
      "text/latex": [
       "\\begin{tabular}{r|llllllll}\n",
       "  & Speaking & Reading & Traveling & School.Grades & Height & Good.Skin & Muscular & Crush\\\\\n",
       "\\hline\n",
       "\t7 & 40    & 90    & 60    & 60    & 60    & 80    & 60    & 1type\\\\\n",
       "\t8 & 30    & 60    & 90    & 60    & 40    & 70    & 70    & 2type\\\\\n",
       "\t11 & 80    & 50    & 60    & 40    & 50    & 40    & 70    & 3type\\\\\n",
       "\t12 & 30    & 70    & 30    & 90    & 70    & 80    & 60    & 1type\\\\\n",
       "\t14 & 80    & 30    & 50    & 50    & 80    & 40    & 60    & 3type\\\\\n",
       "\\end{tabular}\n"
      ],
      "text/markdown": [
       "\n",
       "| <!--/--> | Speaking | Reading | Traveling | School.Grades | Height | Good.Skin | Muscular | Crush | \n",
       "|---|---|---|---|---|\n",
       "| 7 | 40    | 90    | 60    | 60    | 60    | 80    | 60    | 1type | \n",
       "| 8 | 30    | 60    | 90    | 60    | 40    | 70    | 70    | 2type | \n",
       "| 11 | 80    | 50    | 60    | 40    | 50    | 40    | 70    | 3type | \n",
       "| 12 | 30    | 70    | 30    | 90    | 70    | 80    | 60    | 1type | \n",
       "| 14 | 80    | 30    | 50    | 50    | 80    | 40    | 60    | 3type | \n",
       "\n",
       "\n"
      ],
      "text/plain": [
       "   Speaking Reading Traveling School.Grades Height Good.Skin Muscular Crush\n",
       "7  40       90      60        60            60     80        60       1type\n",
       "8  30       60      90        60            40     70        70       2type\n",
       "11 80       50      60        40            50     40        70       3type\n",
       "12 30       70      30        90            70     80        60       1type\n",
       "14 80       30      50        50            80     40        60       3type"
      ]
     },
     "metadata": {},
     "output_type": "display_data"
    }
   ],
   "source": [
    "#train, test데이터로 나눔\n",
    "set.seed(2000000)\n",
    "idx <- sample(nrow(isLike), size=nrow(isLike)*0.7)\n",
    "train <- isLike[idx, ]\n",
    "test <- isLike[-idx, ]\n",
    "\n",
    "nrow(train)\n",
    "nrow(test)\n",
    "table(train$Crush)\n",
    "table(test$Crush)\n",
    "train\n",
    "test"
   ]
  },
  {
   "cell_type": "code",
   "execution_count": 27,
   "metadata": {},
   "outputs": [
    {
     "data": {
      "text/html": [
       "<ol class=list-inline>\n",
       "\t<li>1type</li>\n",
       "\t<li>2type</li>\n",
       "\t<li>2type</li>\n",
       "\t<li>1type</li>\n",
       "\t<li>3type</li>\n",
       "</ol>\n"
      ],
      "text/latex": [
       "\\begin{enumerate*}\n",
       "\\item 1type\n",
       "\\item 2type\n",
       "\\item 2type\n",
       "\\item 1type\n",
       "\\item 3type\n",
       "\\end{enumerate*}\n"
      ],
      "text/markdown": [
       "1. 1type\n",
       "2. 2type\n",
       "3. 2type\n",
       "4. 1type\n",
       "5. 3type\n",
       "\n",
       "\n"
      ],
      "text/plain": [
       "[1] 1type 2type 2type 1type 3type\n",
       "attr(,\"prob\")\n",
       "[1] 1 1 1 1 1\n",
       "Levels: 1type 2type 3type"
      ]
     },
     "metadata": {},
     "output_type": "display_data"
    }
   ],
   "source": [
    "#KNN 알고리즘 적용\n",
    "library(class)\n",
    "knn1 <- knn(train[,1:7], test[,1:7], train$Crush, k=1, prob=T)\n",
    "knn1"
   ]
  },
  {
   "cell_type": "code",
   "execution_count": 28,
   "metadata": {},
   "outputs": [
    {
     "data": {
      "text/html": [
       "<ol class=list-inline>\n",
       "\t<li>1type</li>\n",
       "\t<li>2type</li>\n",
       "\t<li>3type</li>\n",
       "\t<li>1type</li>\n",
       "\t<li>3type</li>\n",
       "</ol>\n"
      ],
      "text/latex": [
       "\\begin{enumerate*}\n",
       "\\item 1type\n",
       "\\item 2type\n",
       "\\item 3type\n",
       "\\item 1type\n",
       "\\item 3type\n",
       "\\end{enumerate*}\n"
      ],
      "text/markdown": [
       "1. 1type\n",
       "2. 2type\n",
       "3. 3type\n",
       "4. 1type\n",
       "5. 3type\n",
       "\n",
       "\n"
      ],
      "text/plain": [
       "[1] 1type 2type 3type 1type 3type\n",
       "attr(,\"prob\")\n",
       "[1] 1.0000000 0.6666667 0.6666667 0.7500000 0.6666667\n",
       "Levels: 1type 2type 3type"
      ]
     },
     "metadata": {},
     "output_type": "display_data"
    }
   ],
   "source": [
    "knn3 <- knn(train[,1:4], test[,1:4], train$Crush, k=3, prob=T)\n",
    "knn3"
   ]
  },
  {
   "cell_type": "code",
   "execution_count": 29,
   "metadata": {},
   "outputs": [
    {
     "data": {
      "text/html": [
       "0.8"
      ],
      "text/latex": [
       "0.8"
      ],
      "text/markdown": [
       "0.8"
      ],
      "text/plain": [
       "[1] 0.8"
      ]
     },
     "metadata": {},
     "output_type": "display_data"
    },
    {
     "data": {
      "text/html": [
       "1"
      ],
      "text/latex": [
       "1"
      ],
      "text/markdown": [
       "1"
      ],
      "text/plain": [
       "[1] 1"
      ]
     },
     "metadata": {},
     "output_type": "display_data"
    }
   ],
   "source": [
    "#예측값 평가\n",
    "knn1conf <- table(knn1, test$Crush)\n",
    "knn1acc <- sum(diag(knn1conf))/nrow(test)\n",
    "knn1acc\n",
    "\n",
    "knn3conf <- table(knn3, test$Crush)\n",
    "knn3acc <- sum(diag(knn3conf))/nrow(test)\n",
    "knn3acc"
   ]
  },
  {
   "cell_type": "code",
   "execution_count": null,
   "metadata": {
    "collapsed": true
   },
   "outputs": [],
   "source": []
  }
 ],
 "metadata": {
  "kernelspec": {
   "display_name": "R",
   "language": "R",
   "name": "ir"
  },
  "language_info": {
   "codemirror_mode": "r",
   "file_extension": ".r",
   "mimetype": "text/x-r-source",
   "name": "R",
   "pygments_lexer": "r",
   "version": "3.4.2"
  }
 },
 "nbformat": 4,
 "nbformat_minor": 2
}
